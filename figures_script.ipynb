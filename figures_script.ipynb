{
 "cells": [
  {
   "cell_type": "code",
   "execution_count": 1,
   "metadata": {},
   "outputs": [],
   "source": [
    "## Cell 1\n",
    "## Import modules\n",
    "import iris\n",
    "import iris.quickplot as qplt\n",
    "import iris.plot as iplt\n",
    "from iris import *\n",
    "from iris.analysis import *\n",
    "from iris.analysis.cartography import *\n",
    "from iris.coord_categorisation import *\n",
    "import matplotlib.pyplot as plt\n",
    "from scipy.stats import *\n",
    "import sys\n",
    "import numpy\n",
    "import iris.coord_categorisation\n",
    "from numpy import *\n",
    "from matplotlib.pyplot import *\n",
    "from scipy.stats.mstats import *\n",
    "from scipy.optimize import curve_fit\n",
    "from scipy.optimize import leastsq"
   ]
  },
  {
   "cell_type": "code",
   "execution_count": 2,
   "metadata": {},
   "outputs": [],
   "source": [
    "## Cell 2\n",
    "## Read in DHW data\n",
    "\n",
    "## Read in cube\n",
    "dhw_cube = iris.load_cube('/data/local_ssd/cj362/S2P3Rv2.0/dhw/dhw_script_outputs/GFDL-CM4_ssp245_daily_dhw.nc')\n",
    "dhw_cube_name = \"GFDL-CM4 ssp2(4.5)\""
   ]
  },
  {
   "cell_type": "code",
   "execution_count": 3,
   "metadata": {},
   "outputs": [],
   "source": [
    "## Cell 3\n",
    "## Remove year and month scalar coordinates\n",
    "## Eventhough we are going to add back in these coordinates later on,\n",
    "## For some reason if we do not remove them in the first place it causes later variables to become recognised\n",
    "## as NoneType objects rather than Iris Cubes.\n",
    "## THIS CELL MUST BE RUN\n",
    "\n",
    "dhw_cube.remove_coord('year')\n",
    "dhw_cube.remove_coord('month')\n",
    "dhw_cube.remove_coord('month_number')"
   ]
  },
  {
   "cell_type": "code",
   "execution_count": 4,
   "metadata": {},
   "outputs": [],
   "source": [
    "## Cell 4\n",
    "## Detrending\n",
    "\n",
    "## Define function to calculate line from which to detrend\n",
    "def quadratic_function(x,a,b,c):    \n",
    "    y = (a*(x**2.0)) + (b*x) + c\n",
    "    return y\n",
    "\n",
    "## Re-load in dhw cube data to be detrended\n",
    "dhw_cube_detrended = dhw_cube.copy()                    # Copy cube \n",
    "dhw_cube_detrended_data = dhw_cube_detrended.data       # Extract data\n",
    "\n",
    "\n",
    "## Detrending processing\n",
    "shape = np.shape(dhw_cube_detrended_data)              # Returns the shape of the array\n",
    "output_cube_data = dhw_cube_detrended_data.copy()      # Seperate cube to process the data\n",
    "output_cube_data[:] = np.nan                                         # Converts all values (:) in array to Nan\n",
    "\n",
    "for i in range(shape[1]):                                  \n",
    "    for j in range(shape[2]):\n",
    "        if dhw_cube_detrended_data.mask[0,i,j] == False:\n",
    "            parameters, var = curve_fit(quadratic_function,np.arange(shape[0]),dhw_cube_detrended_data[:,i,j])\n",
    "            y_values_anomaly_from_curve = quadratic_function(np.arange(shape[0]), *parameters)\n",
    "            output_cube_data[:,i,j] = dhw_cube_detrended_data[:,i,j]-y_values_anomaly_from_curve\n",
    "         \n",
    "        \n",
    "# This bit of code essentially deals with all the odd values:\n",
    "# np.isnan is used to identify where the data value is a Nan value\n",
    "# the .fill_value function fills the specified data point by default as None\n",
    "output_cube_data.data[np.where(np.isnan(output_cube_data))] = output_cube_data.fill_value\n",
    "output_cube_data[np.where(output_cube_data == 0.0)] = output_cube_data.fill_value\n",
    "output_cube_data.mask[np.where(np.isnan(output_cube_data))] = True    # Masks data values that are Nans to True (meaning they are ignored)\n",
    "output_cube_data.mask[np.where(output_cube_data == output_cube_data.fill_value)] = True   # Masks data values that have been assigned using fill_value to True also\n",
    "\n",
    "#Put detrended data back in to the original cube\n",
    "dhw_cube_detrended.data = output_cube_data #By specifying .data it automatically also affects the overarching dhw_cube_2_annual_max_detrended variable. "
   ]
  },
  {
   "cell_type": "code",
   "execution_count": 5,
   "metadata": {},
   "outputs": [],
   "source": [
    "## Cell 5\n",
    "## Extract for ENSO event interested in\n",
    "\n",
    "## Define extract_year_range_inclusive_2_years function for ENSO events that span across 2 years\n",
    "def extract_year_range_inclusive_2_years(enso_dhw_cube,start_year,year_1_start_month,year_1_end_month,end_year,year_2_start_month,year_2_end_month):\n",
    "    \n",
    "    try:  # Add year scalar coordinate\n",
    "        iris.coord_categorisation.add_year(enso_dhw_cube,'time', name='year')\n",
    "    except:\n",
    "        pass\n",
    "    try:  # Add month scalar coordinate\n",
    "        iris.coord_categorisation.add_month(enso_dhw_cube,'time', name='month')\n",
    "    except:\n",
    "        pass\n",
    "    try:  # Add month_number scalar coordinate\n",
    "        iris.coord_categorisation.add_month_number(enso_dhw_cube,'time', name = 'month_number')\n",
    "    except:\n",
    "        pass\n",
    "    \n",
    "    # Constrain first part of ENSO event\n",
    "    enso_event_year_1_year = iris.Constraint(year=lambda tmp_yr: tmp_yr == start_year)\n",
    "    enso_event_year_1_months = iris.Constraint(month_number=lambda tmp_mn: year_1_start_month <= tmp_mn <= year_1_end_month)\n",
    "    enso_event_year_1_cube = enso_dhw_cube.extract(enso_event_year_1_year & enso_event_year_1_months)\n",
    "    #print(type(enso_event_year_1_cube))\n",
    "    \n",
    "    # Constrain second part of ENSO event\n",
    "    enso_event_year_2_year = iris.Constraint(year=lambda tmp_yr: tmp_yr == end_year)\n",
    "    enso_event_year_2_months = iris.Constraint(month_number=lambda tmp_mn: year_2_start_month <= tmp_mn <= year_2_end_month)\n",
    "    enso_event_year_2_cube = enso_dhw_cube.extract(enso_event_year_2_year & enso_event_year_2_months)\n",
    "    #print(type(enso_event_year_1_cube))\n",
    "    \n",
    "    # Merge two cubes together\n",
    "    enso_event_cube_list = iris.cube.CubeList([enso_event_year_1_cube, enso_event_year_2_cube])\n",
    "    enso_event_cube = enso_event_cube_list.concatenate()[0]    \n",
    "    #print(type(enso_event_year_1_cube))\n",
    "          \n",
    "    return enso_event_cube\n",
    "\n",
    "\n",
    "\n",
    "\n",
    "## Define extract_year_range_inclusive_3_years function for ENSO events that span across 3 years\n",
    "def extract_year_range_inclusive_3_years(enso_dhw_cube,start_year,year_1_start_month,year_1_end_month,end_year,year_2_start_month,year_2_end_month,middle_year,year_between_start_month,year_between_end_month):\n",
    "    \n",
    "    ## Only use this function if the ENSO event being investigated stretches across three years e.g. 2021,2022,2023\n",
    "    \n",
    "    try:  # Add year scalar coordinate\n",
    "        iris.coord_categorisation.add_year(enso_dhw_cube,'time', name='year')\n",
    "    except:\n",
    "        pass\n",
    "    try:  # Add month scalar coordinate\n",
    "        iris.coord_categorisation.add_month(enso_dhw_cube,'time', name='month')\n",
    "    except:\n",
    "        pass\n",
    "    try:  # Add month_number scalar coordinate\n",
    "        iris.coord_categorisation.add_month_number(enso_dhw_cube,'time', name = 'month_number')\n",
    "    except:\n",
    "        pass\n",
    "    \n",
    "    # Constrain first part of ENSO event\n",
    "    enso_event_year_1_year = iris.Constraint(year=lambda tmp_yr: tmp_yr == start_year)\n",
    "    enso_event_year_1_months = iris.Constraint(month_number=lambda tmp_mn: year_1_start_month <= tmp_mn <= year_1_end_month)\n",
    "    enso_event_year_1_cube = enso_dhw_cube.extract(enso_event_year_1_year & enso_event_year_1_months)\n",
    "\n",
    "    # Constrain second part of ENSO event\n",
    "    enso_event_year_2_year = iris.Constraint(year=lambda tmp_yr: tmp_yr == end_year)\n",
    "    enso_event_year_2_months = iris.Constraint(month_number=lambda tmp_mn: year_2_start_month <= tmp_mn <= year_2_end_month)\n",
    "    enso_event_year_2_cube = enso_dhw_cube.extract(enso_event_year_2_year & enso_event_year_2_months)\n",
    "    \n",
    "    # Constrain middle part of ENSO event\n",
    "    enso_event_year_between_year = iris.Constraint(year=lambda tmp_yr: tmp_yr == middle_year)\n",
    "    enso_event_year_between_months = iris.Constraint(month_number=lambda tmp_mn: year_2_start_month <= tmp_mn <= year_2_end_month)\n",
    "    enso_event_year_between_cube = enso_dhw_cube.extract(enso_event_year_between_year & enso_event_year_between_months)\n",
    "    \n",
    "    # Merge three cubes together\n",
    "    enso_event_cube_list = iris.cube.CubeList([enso_event_year_1_cube, enso_event_year_2_cube, enso_event_year_between_cube])\n",
    "    enso_event_cube = enso_event_cube_list.concatenate()[0]    \n",
    "   \n",
    "    return enso_event_cube\n",
    "\n",
    "\n",
    "\n",
    "## Define new cube for ENSO event figure creation\n",
    "enso_dhw_cube = dhw_cube\n",
    "enso_event_name = \"\"\n",
    "\n",
    "\n",
    "\n",
    "## Define start and end month for specific ENSO event\n",
    "start_year= 2020\n",
    "end_year = 2021\n",
    "# between_year = 2045\n",
    "year_1_start_month,year_1_end_month = 11, 12\n",
    "year_2_start_month,year_2_end_month = 1, 5\n",
    "# year_between_start_month,year_between_end_month = 1, 12\n",
    "\n",
    "\n",
    "\n",
    "# ENSO events that span two years (use first function):\n",
    "enso_event_cube = extract_year_range_inclusive_2_years(enso_dhw_cube,start_year,year_1_start_month,year_1_end_month,end_year,year_2_start_month,year_2_end_month)\n",
    "\n",
    "# ENSO events that span three years (use second function):\n",
    "# enso_event_cube = extract_year_range_inclusive_3_years(enso_dhw_cube,start_year,year_1_start_month,year_1_end_month,end_year,year_2_start_month,year_2_end_month,between_year,year_between_start_month,year_between_end_month)\n",
    "\n"
   ]
  },
  {
   "cell_type": "code",
   "execution_count": 6,
   "metadata": {},
   "outputs": [
    {
     "name": "stdout",
     "output_type": "stream",
     "text": [
      "unknown / (1)                       (time: 211)\n",
      "     Dimension coordinates:\n",
      "          time                           x\n",
      "     Auxiliary coordinates:\n",
      "          month                          x\n",
      "          month_number                   x\n",
      "          year                           x\n",
      "     Scalar coordinates:\n",
      "          latitude: -17.0 degrees, bound=(-25.05, -8.95) degrees\n",
      "          longitude: 148.5 degrees, bound=(141.95, 155.05) degrees\n",
      "     Attributes:\n",
      "          CDI: Climate Data Interface version ?? (http://mpimet.mpg.de/cdi)\n",
      "          CDO: Climate Data Operators version 1.9.3 (http://mpimet.mpg.de/cdo)\n",
      "          Conventions: CF-1.7\n",
      "          history: Thu May 27 15:42:01 2021: cdo mergetime GFDL-CM4_ssp245_1970_2100_surfacetemperature_1970.nc...\n",
      "     Cell methods:\n",
      "          mean: longitude, latitude\n"
     ]
    },
    {
     "name": "stderr",
     "output_type": "stream",
     "text": [
      "/home/cj362/anaconda3/envs/python27/lib/python2.7/site-packages/iris/analysis/cartography.py:394: UserWarning: Using DEFAULT_SPHERICAL_EARTH_RADIUS.\n",
      "  warnings.warn(\"Using DEFAULT_SPHERICAL_EARTH_RADIUS.\")\n"
     ]
    },
    {
     "data": {
      "text/plain": [
       "[<matplotlib.lines.Line2D at 0x7f7acd9817d0>]"
      ]
     },
     "execution_count": 6,
     "metadata": {},
     "output_type": "execute_result"
    },
    {
     "data": {
      "image/png": "[encoded data removed]",
      "text/plain": [
       "<Figure size 432x288 with 1 Axes>"
      ]
     },
     "metadata": {
      "needs_background": "light"
     },
     "output_type": "display_data"
    }
   ],
   "source": [
    "## Cell 6\n",
    "## Plot timeseries of area mean daily dhw values\n",
    "\n",
    "## Define function to calculate area mean\n",
    "def area_mean(enso_event_area_mean):\n",
    "    try:\n",
    "        enso_event_area_mean.coord('latitude').guess_bounds()\n",
    "    except:\n",
    "        pass\n",
    "    try:\n",
    "        enso_event_area_mean.coord('longitude').guess_bounds()\n",
    "    except:\n",
    "        pass\n",
    "    grid_areas = iris.analysis.cartography.area_weights(enso_event_area_mean)\n",
    "    return enso_event_area_mean.collapsed(['longitude', 'latitude'],iris.analysis.MEAN, weights=grid_areas)\n",
    "\n",
    "## Re-load iris cube containing area mean\n",
    "enso_event_area_mean = enso_event_cube\n",
    "\n",
    "## Filtering out crazy values and assigning them as a Nan\n",
    "enso_event_area_mean_data = enso_event_area_mean.data\n",
    "if np.nanmax(enso_event_area_mean_data) > 1000:\n",
    "    enso_event_area_mean_data[np.where(enso_event_area_mean_data > 1000)] = enso_event_area_mean_data.fill_value\n",
    "    enso_event_area_mean_data.mask[np.where(enso_event_area_mean_data > 1000)] = True\n",
    "if np.nanmax(enso_event_area_mean_data) < -1000:\n",
    "    enso_event_area_mean_data[np.where(enso_event_area_mean_data < -1000)] = enso_event_area_mean_data.fill_value\n",
    "    enso_event_area_mean_data.mask[np.where(enso_event_area_mean_data < -1000)] = True\n",
    "    \n",
    "## Call function to calculate area mean\n",
    "enso_event_area_mean = area_mean(enso_event_area_mean)   # Call function to average over all grid squares\n",
    "print(enso_event_area_mean)\n",
    "\n",
    "qplt.plot(enso_event_area_mean)"
   ]
  },
  {
   "cell_type": "code",
   "execution_count": 7,
   "metadata": {},
   "outputs": [
    {
     "name": "stdout",
     "output_type": "stream",
     "text": [
      "unknown / (1)                       (latitude: 161; longitude: 131)\n",
      "     Dimension coordinates:\n",
      "          latitude                           x               -\n",
      "          longitude                          -               x\n",
      "     Scalar coordinates:\n",
      "          month: Nov|Nov|Nov|Nov|Nov|Nov|Nov|Nov|Nov|Nov|Nov|Nov|Nov|Nov|Nov|Nov|Nov|No...\n",
      "          month_number: 6, bound=(1, 12)\n",
      "          time: 2021-02-14 12:00:00, bound=(2020-11-01 00:00:00, 2021-05-31 00:00:00)\n",
      "          year: 2020, bound=(2020, 2021)\n",
      "     Attributes:\n",
      "          CDI: Climate Data Interface version ?? (http://mpimet.mpg.de/cdi)\n",
      "          CDO: Climate Data Operators version 1.9.3 (http://mpimet.mpg.de/cdo)\n",
      "          Conventions: CF-1.7\n",
      "          history: Thu May 27 15:42:01 2021: cdo mergetime GFDL-CM4_ssp245_1970_2100_surfacetemperature_1970.nc...\n",
      "     Cell methods:\n",
      "          sum: time\n"
     ]
    },
    {
     "name": "stderr",
     "output_type": "stream",
     "text": [
      "/home/cj362/anaconda3/envs/python27/lib/python2.7/site-packages/iris/coords.py:1410: UserWarning: Collapsing a non-contiguous coordinate. Metadata may not be fully descriptive for u'time'.\n",
      "  warnings.warn(msg.format(self.name()))\n",
      "/home/cj362/anaconda3/envs/python27/lib/python2.7/site-packages/iris/coords.py:1410: UserWarning: Collapsing a non-contiguous coordinate. Metadata may not be fully descriptive for u'month_number'.\n",
      "  warnings.warn(msg.format(self.name()))\n",
      "/home/cj362/anaconda3/envs/python27/lib/python2.7/site-packages/iris/coords.py:1410: UserWarning: Collapsing a non-contiguous coordinate. Metadata may not be fully descriptive for u'year'.\n",
      "  warnings.warn(msg.format(self.name()))\n"
     ]
    },
    {
     "data": {
      "text/plain": [
       "<matplotlib.collections.QuadMesh at 0x7f7acd83d550>"
      ]
     },
     "execution_count": 7,
     "metadata": {},
     "output_type": "execute_result"
    },
    {
     "data": {
      "image/png": "[encoded data removed]",
      "text/plain": [
       "<Figure size 432x288 with 2 Axes>"
      ]
     },
     "metadata": {
      "needs_background": "light"
     },
     "output_type": "display_data"
    }
   ],
   "source": [
    "## Cell 7\n",
    "## Calculate cumulative DHW for each grid square\n",
    "\n",
    "## Re-load in iris cube containing dhw data\n",
    "enso_events_total_dhw = enso_event_cube\n",
    "\n",
    "## Filtering out crazy values and assigning them as a Nan\n",
    "enso_events_total_dhw_data = enso_events_total_dhw.data\n",
    "if np.nanmax(enso_events_total_dhw_data) > 1000:\n",
    "    enso_events_total_dhw_data[np.where(enso_events_total_dhw_data > 1000)] = enso_events_total_dhw_data.fill_value\n",
    "    enso_events_total_dhw_data.mask[np.where(enso_events_total_dhw_data > 1000)] = True\n",
    "if np.nanmax(enso_events_total_dhw_data) < -1000:\n",
    "    enso_events_total_dhw_data[np.where(enso_events_total_dhw_data < -1000)] = enso_events_total_dhw_data.fill_value\n",
    "    enso_events_total_dhw_data.mask[np.where(enso_events_total_dhw_data < -1000)] = True\n",
    "\n",
    "## Calculate value sum \n",
    "enso_events_total_dhw = enso_events_total_dhw.collapsed('time', iris.analysis.SUM)\n",
    "print(enso_events_total_dhw)\n",
    "\n",
    "\n",
    "qplt.pcolormesh(enso_events_total_dhw)"
   ]
  },
  {
   "cell_type": "code",
   "execution_count": 8,
   "metadata": {},
   "outputs": [
    {
     "name": "stdout",
     "output_type": "stream",
     "text": [
      "unknown / (1)                       (latitude: 161; longitude: 131)\n",
      "     Dimension coordinates:\n",
      "          latitude                           x               -\n",
      "          longitude                          -               x\n",
      "     Scalar coordinates:\n",
      "          month: Nov|Nov|Nov|Nov|Nov|Nov|Nov|Nov|Nov|Nov|Nov|Nov|Nov|Nov|Nov|Nov|Nov|No...\n",
      "          month_number: 6, bound=(1, 12)\n",
      "          time: 2021-02-14 12:00:00, bound=(2020-11-01 00:00:00, 2021-05-31 00:00:00)\n",
      "          year: 2020, bound=(2020, 2021)\n",
      "     Attributes:\n",
      "          CDI: Climate Data Interface version ?? (http://mpimet.mpg.de/cdi)\n",
      "          CDO: Climate Data Operators version 1.9.3 (http://mpimet.mpg.de/cdo)\n",
      "          Conventions: CF-1.7\n",
      "          history: Thu May 27 15:42:01 2021: cdo mergetime GFDL-CM4_ssp245_1970_2100_surfacetemperature_1970.nc...\n",
      "     Cell methods:\n",
      "          maximum: time\n"
     ]
    },
    {
     "data": {
      "text/plain": [
       "<matplotlib.collections.QuadMesh at 0x7f78cc6bd1d0>"
      ]
     },
     "execution_count": 8,
     "metadata": {},
     "output_type": "execute_result"
    },
    {
     "data": {
      "image/png": "[encoded data removed]",
      "text/plain": [
       "<Figure size 432x288 with 2 Axes>"
      ]
     },
     "metadata": {
      "needs_background": "light"
     },
     "output_type": "display_data"
    }
   ],
   "source": [
    "## Cell 8\n",
    "## Calculate maximum DHW for each grid square\n",
    "\n",
    "## Re-load in iris cube containing dhw data\n",
    "enso_events_max_dhw = enso_event_cube\n",
    "\n",
    "## Filtering out crazy values and assigning them as a Nan\n",
    "enso_events_max_dhw_data = enso_events_max_dhw.data\n",
    "if np.nanmax(enso_events_max_dhw_data) > 1000:\n",
    "    enso_events_max_dhw_data[np.where(enso_events_max_dhw_data > 1000)] = enso_events_max_dhw_data.fill_value\n",
    "    enso_events_max_dhw_data.mask[np.where(enso_events_max_dhw_data > 1000)] = True\n",
    "if np.nanmax(enso_events_max_dhw_data) < -1000:\n",
    "    enso_events_max_dhw_data[np.where(enso_events_max_dhw_data < -1000)] = enso_events_max_dhw_data.fill_value\n",
    "    enso_events_max_dhw_data.mask[np.where(enso_events_max_dhw_data < -1000)] = True\n",
    "\n",
    "## Calculate value sum \n",
    "enso_events_max_dhw = enso_events_max_dhw.collapsed('time', iris.analysis.MAX)\n",
    "print(enso_events_max_dhw)\n",
    "\n",
    "qplt.pcolormesh(enso_events_max_dhw)"
   ]
  },
  {
   "cell_type": "code",
   "execution_count": 9,
   "metadata": {},
   "outputs": [
    {
     "name": "stdout",
     "output_type": "stream",
     "text": [
      "unknown / (1)                       (latitude: 161; longitude: 131)\n",
      "     Dimension coordinates:\n",
      "          latitude                           x               -\n",
      "          longitude                          -               x\n",
      "     Scalar coordinates:\n",
      "          month: Nov|Nov|Nov|Nov|Nov|Nov|Nov|Nov|Nov|Nov|Nov|Nov|Nov|Nov|Nov|Nov|Nov|No...\n",
      "          month_number: 6, bound=(1, 12)\n",
      "          time: 2021-02-14 12:00:00, bound=(2020-11-01 00:00:00, 2021-05-31 00:00:00)\n",
      "          year: 2020, bound=(2020, 2021)\n",
      "     Attributes:\n",
      "          CDI: Climate Data Interface version ?? (http://mpimet.mpg.de/cdi)\n",
      "          CDO: Climate Data Operators version 1.9.3 (http://mpimet.mpg.de/cdo)\n",
      "          Conventions: CF-1.7\n",
      "          history: Thu May 27 15:42:01 2021: cdo mergetime GFDL-CM4_ssp245_1970_2100_surfacetemperature_1970.nc...\n",
      "     Cell methods:\n",
      "          count: time\n"
     ]
    },
    {
     "data": {
      "text/plain": [
       "<matplotlib.collections.QuadMesh at 0x7f78cc5fab90>"
      ]
     },
     "execution_count": 9,
     "metadata": {},
     "output_type": "execute_result"
    },
    {
     "data": {
      "image/png": "[encoded data removed]",
      "text/plain": [
       "<Figure size 432x288 with 2 Axes>"
      ]
     },
     "metadata": {
      "needs_background": "light"
     },
     "output_type": "display_data"
    }
   ],
   "source": [
    "## Cell 9\n",
    "## DHW bleaching thresholds plot \n",
    "## Plotting the number of times that each grid square reaches or exceeds 8 Degree Heating Weeks threshold\n",
    "\n",
    "## Re-load in data\n",
    "enso_events_eight_dhw = enso_event_cube\n",
    "\n",
    "## Filtering out crazy values and assigning them as a Nan\n",
    "enso_events_eight_dhw_data = enso_events_eight_dhw.data\n",
    "if np.nanmax(enso_events_eight_dhw_data) > 1000:\n",
    "    enso_events_eight_dhw_data[np.where(enso_events_eight_dhw_data > 1000)] = enso_events_eight_dhw_data.fill_value\n",
    "    enso_events_eight_dhw_data.mask[np.where(enso_events_eight_dhw_data > 1000)] = True\n",
    "if np.nanmax(enso_events_eight_dhw_data) < -1000:\n",
    "    enso_events_eight_dhw_data[np.where(enso_events_eight_dhw_data < -1000)] = enso_events_eight_dhw_data.fill_value\n",
    "    enso_events_eight_dhw_data.mask[np.where(enso_events_eight_dhw_data < -1000)] = True\n",
    "\n",
    "enso_events_eight_dhw = enso_events_eight_dhw.collapsed('time', iris.analysis.COUNT,\n",
    "                               function=lambda values: values >= 8)\n",
    "\n",
    "print(enso_events_eight_dhw)\n",
    "qplt.pcolormesh(enso_events_eight_dhw)\n",
    "\n",
    "## Filter out crazy values\n",
    "## (function) Analyse each grid square for each day (two for loops?) then an if statement that catches no. times >=8\n",
    "# Each instance, add a point to a new cube for each grid square for each day\n",
    "# Calculate the sum of these points at each grid square using. analysis.SUM"
   ]
  },
  {
   "cell_type": "code",
   "execution_count": 19,
   "metadata": {},
   "outputs": [
    {
     "name": "stdout",
     "output_type": "stream",
     "text": [
      "[[[-- -- -- ... -- -- --]\n",
      "  [-- -- -- ... -- -- --]\n",
      "  [-- -- -- ... -- -- --]\n",
      "  ...\n",
      "  [-- 0.0 0.0 ... -- -- --]\n",
      "  [-- -- -- ... -- -- --]\n",
      "  [-- -- -- ... -- -- --]]\n",
      "\n",
      " [[-- -- -- ... -- -- --]\n",
      "  [-- -- -- ... -- -- --]\n",
      "  [-- -- -- ... -- -- --]\n",
      "  ...\n",
      "  [-- 0.0 0.0 ... -- -- --]\n",
      "  [-- -- -- ... -- -- --]\n",
      "  [-- -- -- ... -- -- --]]\n",
      "\n",
      " [[-- -- -- ... -- -- --]\n",
      "  [-- -- -- ... -- -- --]\n",
      "  [-- -- -- ... -- -- --]\n",
      "  ...\n",
      "  [-- 0.0 0.0 ... -- -- --]\n",
      "  [-- -- -- ... -- -- --]\n",
      "  [-- -- -- ... -- -- --]]\n",
      "\n",
      " ...\n",
      "\n",
      " [[-- -- -- ... -- -- --]\n",
      "  [-- -- -- ... -- -- --]\n",
      "  [-- -- -- ... -- -- --]\n",
      "  ...\n",
      "  [-- 0.8695338368415833 0.9279845356941223 ... -- -- --]\n",
      "  [-- -- -- ... -- -- --]\n",
      "  [-- -- -- ... -- -- --]]\n",
      "\n",
      " [[-- -- -- ... -- -- --]\n",
      "  [-- -- -- ... -- -- --]\n",
      "  [-- -- -- ... -- -- --]\n",
      "  ...\n",
      "  [-- 0.8695338368415833 0.9279845356941223 ... -- -- --]\n",
      "  [-- -- -- ... -- -- --]\n",
      "  [-- -- -- ... -- -- --]]\n",
      "\n",
      " [[-- -- -- ... -- -- --]\n",
      "  [-- -- -- ... -- -- --]\n",
      "  [-- -- -- ... -- -- --]\n",
      "  ...\n",
      "  [-- 0.8695338368415833 0.9279845356941223 ... -- -- --]\n",
      "  [-- -- -- ... -- -- --]\n",
      "  [-- -- -- ... -- -- --]]]\n",
      "<class 'numpy.ma.core.MaskedArray'>\n"
     ]
    },
    {
     "ename": "ValueError",
     "evalue": "The truth value of an array with more than one element is ambiguous. Use a.any() or a.all()",
     "output_type": "error",
     "traceback": [
      "\u001b[0;31m---------------------------------------------------------------------------\u001b[0m",
      "\u001b[0;31mValueError\u001b[0m                                Traceback (most recent call last)",
      "\u001b[0;32m<ipython-input-19-72dca2c29e9d>\u001b[0m in \u001b[0;36m<module>\u001b[0;34m()\u001b[0m\n\u001b[1;32m     41\u001b[0m \u001b[0;34m\u001b[0m\u001b[0m\n\u001b[1;32m     42\u001b[0m \u001b[0;31m## Call upon function to examine data\u001b[0m\u001b[0;34m\u001b[0m\u001b[0;34m\u001b[0m\u001b[0m\n\u001b[0;32m---> 43\u001b[0;31m \u001b[0mthreshold_count\u001b[0m\u001b[0;34m(\u001b[0m\u001b[0menso_events_dhw_thresholds_data\u001b[0m\u001b[0;34m)\u001b[0m\u001b[0;34m\u001b[0m\u001b[0m\n\u001b[0m\u001b[1;32m     44\u001b[0m \u001b[0;34m\u001b[0m\u001b[0m\n\u001b[1;32m     45\u001b[0m \u001b[0;32mprint\u001b[0m\u001b[0;34m(\u001b[0m\u001b[0menso_event_dhw_1_count\u001b[0m\u001b[0;34m)\u001b[0m\u001b[0;34m\u001b[0m\u001b[0m\n",
      "\u001b[0;32m<ipython-input-19-72dca2c29e9d>\u001b[0m in \u001b[0;36mthreshold_count\u001b[0;34m(enso_events_dhw_thresholds_data)\u001b[0m\n\u001b[1;32m     19\u001b[0m \u001b[0;34m\u001b[0m\u001b[0m\n\u001b[1;32m     20\u001b[0m         \u001b[0;31m# Define if statements to segment different threshold counts\u001b[0m\u001b[0;34m\u001b[0m\u001b[0;34m\u001b[0m\u001b[0m\n\u001b[0;32m---> 21\u001b[0;31m         \u001b[0;32mif\u001b[0m \u001b[0;34m(\u001b[0m\u001b[0;36m1\u001b[0m \u001b[0;34m<=\u001b[0m \u001b[0menso_events_dhw_thresholds_data\u001b[0m\u001b[0;34m[\u001b[0m\u001b[0mi\u001b[0m\u001b[0;34m]\u001b[0m \u001b[0;34m<\u001b[0m \u001b[0;36m2\u001b[0m\u001b[0;34m)\u001b[0m\u001b[0;34m:\u001b[0m\u001b[0;34m\u001b[0m\u001b[0m\n\u001b[0m\u001b[1;32m     22\u001b[0m             \u001b[0menso_event_dhw_1_count\u001b[0m \u001b[0;34m=\u001b[0m \u001b[0menso_event_dhw_1_count\u001b[0m \u001b[0;34m+\u001b[0m \u001b[0;36m1\u001b[0m\u001b[0;34m\u001b[0m\u001b[0m\n\u001b[1;32m     23\u001b[0m \u001b[0;34m\u001b[0m\u001b[0m\n",
      "\u001b[0;31mValueError\u001b[0m: The truth value of an array with more than one element is ambiguous. Use a.any() or a.all()"
     ]
    }
   ],
   "source": [
    "## Cell 10\n",
    "## Bar chart of DHW threshold occurences\n",
    "# Trying to plot a bar chart of the number of times that different DHW thresholds were crossed...\n",
    "# ...totalled from across all grid squares.\n",
    "\n",
    "# Define function to count the occurences of different DHW thresholds being crossed\n",
    "def threshold_count (enso_events_dhw_thresholds_data):\n",
    "    \n",
    "    # Create for loop to examine all data\n",
    "    for i in range(0, len(enso_events_dhw_thresholds_data) + 1):\n",
    "        \n",
    "        ## PROBLEM IN LINE ABOVE:have tried solutions relating to .any() and .all(), as well as .compressed()\n",
    "        \n",
    "        # Define different threshold counts\n",
    "        enso_event_dhw_1_count = 0\n",
    "        enso_event_dhw_2_count = 0\n",
    "        enso_event_dhw_4_count = 0\n",
    "        enso_event_dhw_8_count = 0\n",
    "    \n",
    "        # Define if statements to segment different threshold counts\n",
    "        if (1 <= enso_events_dhw_thresholds_data[i] < 2):\n",
    "            enso_event_dhw_1_count = enso_event_dhw_1_count + 1\n",
    "    \n",
    "        if (2 <= enso_events_dhw_thresholds_data[i] < 4):\n",
    "            enso_event_dhw_2_count = enso_event_dhw_2_count + 1\n",
    "        \n",
    "        if (8 <= enso_events_dhw_thresholds_data[i] < 8):\n",
    "            enso_event_dhw_4_count = enso_event_dhw_4_count + 1\n",
    "        \n",
    "        if (8 <= enso_events_dhw_thresholds_data[i]):\n",
    "            enso_event_dhw_8_count = enso_event_dhw_8_count + 1\n",
    "    \n",
    "    return enso_event_dhw_1_count, enso_event_dhw_2_count, enso_event_dhw_4_count, enso_event_dhw_8_count\n",
    "\n",
    "\n",
    "## Re-load in DHW data\n",
    "enso_events_dhw_thresholds = enso_event_cube\n",
    "enso_events_dhw_thresholds_data = enso_events_dhw_thresholds.data\n",
    "print(enso_events_dhw_thresholds_data)\n",
    "print(type(enso_events_dhw_thresholds_data))\n",
    "\n",
    "## Call upon function to examine data\n",
    "threshold_count(enso_events_dhw_thresholds_data)\n",
    "\n",
    "print(enso_event_dhw_1_count)\n",
    "print(enso_event_dhw_2_count)\n",
    "print(enso_event_dhw_4_count)\n",
    "print(enso_event_dhw_8_count)\n"
   ]
  }
 ],
 "metadata": {
  "kernelspec": {
   "display_name": "Python 2",
   "language": "python",
   "name": "python2"
  },
  "language_info": {
   "codemirror_mode": {
    "name": "ipython",
    "version": 2
   },
   "file_extension": ".py",
   "mimetype": "text/x-python",
   "name": "python",
   "nbconvert_exporter": "python",
   "pygments_lexer": "ipython2",
   "version": "2.7.18"
  }
 },
 "nbformat": 4,
 "nbformat_minor": 5
}
